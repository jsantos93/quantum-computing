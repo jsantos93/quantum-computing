{
 "cells": [
  {
   "cell_type": "code",
   "execution_count": 1,
   "id": "c6d578b6-d70b-47f7-8f36-e6e048722dcd",
   "metadata": {},
   "outputs": [],
   "source": [
    "from pennylane import FermiC, FermiA\n",
    "\n",
    "a0_dag = FermiC(0)\n",
    "a1 = FermiA(1)"
   ]
  },
  {
   "cell_type": "code",
   "execution_count": 2,
   "id": "566b5f08-4834-414b-98d4-9fa7e938f1e0",
   "metadata": {},
   "outputs": [
    {
     "data": {
      "text/plain": [
       "1.3 * a⁺(0) a(1)\n",
       "+ 2.4 * a(1)"
      ]
     },
     "execution_count": 2,
     "metadata": {},
     "output_type": "execute_result"
    }
   ],
   "source": [
    "fermi_word = a0_dag * a1\n",
    "fermi_sentence = 1.3 * a0_dag * a1 + 2.4 * a1\n",
    "fermi_sentence"
   ]
  },
  {
   "cell_type": "code",
   "execution_count": 3,
   "id": "2649d5f3-9a28-4cc5-9115-b86917beb0e7",
   "metadata": {},
   "outputs": [
    {
     "data": {
      "text/plain": [
       "1.3 * a⁺(0) a(1) a⁺(0) a(1)\n",
       "+ 2.4 * a(1) a⁺(0) a(1)\n",
       "+ 2.3 * a⁺(0) a(1)"
      ]
     },
     "execution_count": 3,
     "metadata": {},
     "output_type": "execute_result"
    }
   ],
   "source": [
    "fermi_sentence = fermi_sentence * fermi_word + 2.3 * fermi_word\n",
    "fermi_sentence"
   ]
  },
  {
   "cell_type": "code",
   "execution_count": 4,
   "id": "d83a7c08-68ea-46b4-b345-ac5698ab69d5",
   "metadata": {},
   "outputs": [
    {
     "data": {
      "text/plain": [
       "1.2 * a⁺(0)\n",
       "+ 0.5 * a(1)\n",
       "+ -2.3 * a⁺(0) a(1) a⁺(0) a(1)"
      ]
     },
     "execution_count": 4,
     "metadata": {},
     "output_type": "execute_result"
    }
   ],
   "source": [
    "fermi_sentence = 1.2 * a0_dag + 0.5 * a1 - 2.3 * (a0_dag * a1) ** 2\n",
    "fermi_sentence"
   ]
  },
  {
   "cell_type": "code",
   "execution_count": 5,
   "id": "c37cdc7f-1795-423d-9642-e0561cfb9126",
   "metadata": {},
   "outputs": [
    {
     "data": {
      "text/plain": [
       "(0.6*(PauliX(wires=[0]))) + (-0.6j*(PauliY(wires=[0]))) + (0.25*(PauliZ(wires=[0]) @ PauliX(wires=[1]))) + (0.25j*(PauliZ(wires=[0]) @ PauliY(wires=[1]))) + (0j*(Identity(wires=[0]))) + (0j*(PauliZ(wires=[1]))) + (0j*(PauliZ(wires=[0]))) + (0j*(PauliZ(wires=[0]) @ PauliZ(wires=[1])))"
      ]
     },
     "execution_count": 5,
     "metadata": {},
     "output_type": "execute_result"
    }
   ],
   "source": [
    "from pennylane import jordan_wigner\n",
    "\n",
    "pauli_sentence = jordan_wigner(fermi_sentence)\n",
    "pauli_sentence"
   ]
  },
  {
   "cell_type": "code",
   "execution_count": 6,
   "id": "20e9a64b-3ea8-4fa6-81ba-7f9ef7060a97",
   "metadata": {},
   "outputs": [
    {
     "name": "stdout",
     "output_type": "stream",
     "text": [
      "0.01 * a⁺(0) a(0)\n",
      "+ 0.01 * a⁺(1) a(1)\n",
      "+ -0.02 * a⁺(0) a(1)\n",
      "+ -0.02 * a⁺(1) a(0)\n"
     ]
    }
   ],
   "source": [
    "h1 = 0.01 * (FermiC(0) * FermiA(0) + FermiC(1) * FermiA(1))\n",
    "h2 = -0.02 * (FermiC(0) * FermiA(1) + FermiC(1) * FermiA(0))\n",
    "h = h1 + h2\n",
    "print(h)"
   ]
  },
  {
   "cell_type": "code",
   "execution_count": 7,
   "id": "5c16ffca-2544-45fd-9d10-502cec755f5b",
   "metadata": {},
   "outputs": [],
   "source": [
    "h = jordan_wigner(h)"
   ]
  },
  {
   "cell_type": "code",
   "execution_count": 8,
   "id": "02627499-cd8f-499c-b7f5-4ff68ba5fdc8",
   "metadata": {},
   "outputs": [
    {
     "name": "stdout",
     "output_type": "stream",
     "text": [
      "eigenvalues:\n",
      "[-0.01  0.    0.02  0.03]\n",
      "\n",
      "eigenvectors:\n",
      "[[-0.         -0.70710678 -0.70710678 -0.        ]\n",
      " [ 1.          0.          0.          0.        ]\n",
      " [ 0.          0.          0.          1.        ]\n",
      " [ 0.         -0.70710678  0.70710678  0.        ]]\n"
     ]
    }
   ],
   "source": [
    "from pennylane import numpy as np\n",
    "\n",
    "val, vec = np.linalg.eigh(h.sparse_matrix().toarray())\n",
    "print(f\"eigenvalues:\\n{val}\")\n",
    "print()\n",
    "print(f\"eigenvectors:\\n{np.real(vec.T)}\")"
   ]
  },
  {
   "cell_type": "code",
   "execution_count": 9,
   "id": "84fccbb4-d98f-4f97-831b-f22fa2f4933c",
   "metadata": {},
   "outputs": [],
   "source": [
    "import pennylane as qml\n",
    "\n",
    "symbols = [\"H\", \"H\"]\n",
    "geometry = np.array([[-0.67294, 0.0, 0.0], [0.67294, 0.0, 0.0]], requires_grad=False)"
   ]
  },
  {
   "cell_type": "code",
   "execution_count": 10,
   "id": "480e0443-2dc4-42e0-a0c0-71f2a898a74f",
   "metadata": {},
   "outputs": [],
   "source": [
    "mol = qml.qchem.Molecule(symbols, geometry)\n",
    "core, one, two = qml.qchem.electron_integrals(mol)()"
   ]
  },
  {
   "cell_type": "code",
   "execution_count": 11,
   "id": "8dbec031-9898-46dd-9456-44003812b3e6",
   "metadata": {},
   "outputs": [],
   "source": [
    "for i in range(4):\n",
    "    if i < 2:\n",
    "        one = one.repeat(2, axis=i)\n",
    "    two = two.repeat(2, axis=i)"
   ]
  },
  {
   "cell_type": "code",
   "execution_count": 12,
   "id": "3fea6e59-d715-462b-945a-c19dbb2e8db1",
   "metadata": {},
   "outputs": [],
   "source": [
    "import itertools\n",
    "\n",
    "n = one.shape[0]\n",
    "\n",
    "h = 0.0\n",
    "\n",
    "for p, q in itertools.product(range(n), repeat=2):\n",
    "    if p % 2 == q % 2:  # to account for spin-forbidden terms\n",
    "        h += one[p, q] * FermiC(p) * FermiA(q)"
   ]
  },
  {
   "cell_type": "code",
   "execution_count": null,
   "id": "f91071b1-1d97-4911-a760-21ffa017ff91",
   "metadata": {},
   "outputs": [],
   "source": []
  }
 ],
 "metadata": {
  "kernelspec": {
   "display_name": "Python 3 (ipykernel)",
   "language": "python",
   "name": "python3"
  },
  "language_info": {
   "codemirror_mode": {
    "name": "ipython",
    "version": 3
   },
   "file_extension": ".py",
   "mimetype": "text/x-python",
   "name": "python",
   "nbconvert_exporter": "python",
   "pygments_lexer": "ipython3",
   "version": "3.11.6"
  }
 },
 "nbformat": 4,
 "nbformat_minor": 5
}
