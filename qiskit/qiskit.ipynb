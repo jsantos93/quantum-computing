{
 "cells": [
  {
   "cell_type": "code",
   "execution_count": 1,
   "id": "8af9efb1-206c-4e2c-926c-dfd07d02d19c",
   "metadata": {},
   "outputs": [
    {
     "name": "stdout",
     "output_type": "stream",
     "text": [
      "Requirement already satisfied: qiskit in /opt/conda/lib/python3.11/site-packages (0.44.1)\n",
      "Requirement already satisfied: qiskit-terra==0.25.1 in /opt/conda/lib/python3.11/site-packages (from qiskit) (0.25.1)\n",
      "Requirement already satisfied: rustworkx>=0.13.0 in /opt/conda/lib/python3.11/site-packages (from qiskit-terra==0.25.1->qiskit) (0.13.1)\n",
      "Requirement already satisfied: numpy>=1.17 in /opt/conda/lib/python3.11/site-packages (from qiskit-terra==0.25.1->qiskit) (1.23.5)\n",
      "Requirement already satisfied: ply>=3.10 in /opt/conda/lib/python3.11/site-packages (from qiskit-terra==0.25.1->qiskit) (3.11)\n",
      "Requirement already satisfied: psutil>=5 in /opt/conda/lib/python3.11/site-packages (from qiskit-terra==0.25.1->qiskit) (5.9.5)\n",
      "Requirement already satisfied: scipy>=1.5 in /opt/conda/lib/python3.11/site-packages (from qiskit-terra==0.25.1->qiskit) (1.11.2)\n",
      "Requirement already satisfied: sympy>=1.3 in /opt/conda/lib/python3.11/site-packages (from qiskit-terra==0.25.1->qiskit) (1.12)\n",
      "Requirement already satisfied: dill>=0.3 in /opt/conda/lib/python3.11/site-packages (from qiskit-terra==0.25.1->qiskit) (0.3.7)\n",
      "Requirement already satisfied: python-dateutil>=2.8.0 in /opt/conda/lib/python3.11/site-packages (from qiskit-terra==0.25.1->qiskit) (2.8.2)\n",
      "Requirement already satisfied: stevedore>=3.0.0 in /opt/conda/lib/python3.11/site-packages (from qiskit-terra==0.25.1->qiskit) (5.1.0)\n",
      "Requirement already satisfied: symengine<0.10,>=0.9 in /opt/conda/lib/python3.11/site-packages (from qiskit-terra==0.25.1->qiskit) (0.9.2)\n",
      "Requirement already satisfied: six>=1.5 in /opt/conda/lib/python3.11/site-packages (from python-dateutil>=2.8.0->qiskit-terra==0.25.1->qiskit) (1.16.0)\n",
      "Requirement already satisfied: pbr!=2.1.0,>=2.0.0 in /opt/conda/lib/python3.11/site-packages (from stevedore>=3.0.0->qiskit-terra==0.25.1->qiskit) (5.11.1)\n",
      "Requirement already satisfied: mpmath>=0.19 in /opt/conda/lib/python3.11/site-packages (from sympy>=1.3->qiskit-terra==0.25.1->qiskit) (1.3.0)\n",
      "Requirement already satisfied: pylatexenc in /opt/conda/lib/python3.11/site-packages (2.10)\n",
      "Requirement already satisfied: matplotlib in /opt/conda/lib/python3.11/site-packages (3.7.2)\n",
      "Requirement already satisfied: contourpy>=1.0.1 in /opt/conda/lib/python3.11/site-packages (from matplotlib) (1.1.0)\n",
      "Requirement already satisfied: cycler>=0.10 in /opt/conda/lib/python3.11/site-packages (from matplotlib) (0.11.0)\n",
      "Requirement already satisfied: fonttools>=4.22.0 in /opt/conda/lib/python3.11/site-packages (from matplotlib) (4.42.1)\n",
      "Requirement already satisfied: kiwisolver>=1.0.1 in /opt/conda/lib/python3.11/site-packages (from matplotlib) (1.4.5)\n",
      "Requirement already satisfied: numpy>=1.20 in /opt/conda/lib/python3.11/site-packages (from matplotlib) (1.23.5)\n",
      "Requirement already satisfied: packaging>=20.0 in /opt/conda/lib/python3.11/site-packages (from matplotlib) (23.1)\n",
      "Requirement already satisfied: pillow>=6.2.0 in /opt/conda/lib/python3.11/site-packages (from matplotlib) (10.0.0)\n",
      "Requirement already satisfied: pyparsing<3.1,>=2.3.1 in /opt/conda/lib/python3.11/site-packages (from matplotlib) (3.0.9)\n",
      "Requirement already satisfied: python-dateutil>=2.7 in /opt/conda/lib/python3.11/site-packages (from matplotlib) (2.8.2)\n",
      "Requirement already satisfied: six>=1.5 in /opt/conda/lib/python3.11/site-packages (from python-dateutil>=2.7->matplotlib) (1.16.0)\n",
      "Requirement already satisfied: qiskit-aer in /opt/conda/lib/python3.11/site-packages (0.12.2)\n",
      "Requirement already satisfied: qiskit-terra>=0.21.0 in /opt/conda/lib/python3.11/site-packages (from qiskit-aer) (0.25.1)\n",
      "Requirement already satisfied: numpy>=1.16.3 in /opt/conda/lib/python3.11/site-packages (from qiskit-aer) (1.23.5)\n",
      "Requirement already satisfied: scipy>=1.0 in /opt/conda/lib/python3.11/site-packages (from qiskit-aer) (1.11.2)\n",
      "Requirement already satisfied: rustworkx>=0.13.0 in /opt/conda/lib/python3.11/site-packages (from qiskit-terra>=0.21.0->qiskit-aer) (0.13.1)\n",
      "Requirement already satisfied: ply>=3.10 in /opt/conda/lib/python3.11/site-packages (from qiskit-terra>=0.21.0->qiskit-aer) (3.11)\n",
      "Requirement already satisfied: psutil>=5 in /opt/conda/lib/python3.11/site-packages (from qiskit-terra>=0.21.0->qiskit-aer) (5.9.5)\n",
      "Requirement already satisfied: sympy>=1.3 in /opt/conda/lib/python3.11/site-packages (from qiskit-terra>=0.21.0->qiskit-aer) (1.12)\n",
      "Requirement already satisfied: dill>=0.3 in /opt/conda/lib/python3.11/site-packages (from qiskit-terra>=0.21.0->qiskit-aer) (0.3.7)\n",
      "Requirement already satisfied: python-dateutil>=2.8.0 in /opt/conda/lib/python3.11/site-packages (from qiskit-terra>=0.21.0->qiskit-aer) (2.8.2)\n",
      "Requirement already satisfied: stevedore>=3.0.0 in /opt/conda/lib/python3.11/site-packages (from qiskit-terra>=0.21.0->qiskit-aer) (5.1.0)\n",
      "Requirement already satisfied: symengine<0.10,>=0.9 in /opt/conda/lib/python3.11/site-packages (from qiskit-terra>=0.21.0->qiskit-aer) (0.9.2)\n",
      "Requirement already satisfied: six>=1.5 in /opt/conda/lib/python3.11/site-packages (from python-dateutil>=2.8.0->qiskit-terra>=0.21.0->qiskit-aer) (1.16.0)\n",
      "Requirement already satisfied: pbr!=2.1.0,>=2.0.0 in /opt/conda/lib/python3.11/site-packages (from stevedore>=3.0.0->qiskit-terra>=0.21.0->qiskit-aer) (5.11.1)\n",
      "Requirement already satisfied: mpmath>=0.19 in /opt/conda/lib/python3.11/site-packages (from sympy>=1.3->qiskit-terra>=0.21.0->qiskit-aer) (1.3.0)\n",
      "Requirement already satisfied: qiskit-ibmq-provider in /opt/conda/lib/python3.11/site-packages (0.20.2)\n",
      "Requirement already satisfied: qiskit-terra>=0.18.0 in /opt/conda/lib/python3.11/site-packages (from qiskit-ibmq-provider) (0.25.1)\n",
      "Requirement already satisfied: requests>=2.19 in /opt/conda/lib/python3.11/site-packages (from qiskit-ibmq-provider) (2.31.0)\n",
      "Requirement already satisfied: requests-ntlm<=1.1.0 in /opt/conda/lib/python3.11/site-packages (from qiskit-ibmq-provider) (1.1.0)\n",
      "Requirement already satisfied: numpy<1.24 in /opt/conda/lib/python3.11/site-packages (from qiskit-ibmq-provider) (1.23.5)\n",
      "Requirement already satisfied: urllib3>=1.21.1 in /opt/conda/lib/python3.11/site-packages (from qiskit-ibmq-provider) (2.0.4)\n",
      "Requirement already satisfied: python-dateutil>=2.8.0 in /opt/conda/lib/python3.11/site-packages (from qiskit-ibmq-provider) (2.8.2)\n",
      "Requirement already satisfied: websocket-client>=1.5.1 in /opt/conda/lib/python3.11/site-packages (from qiskit-ibmq-provider) (1.6.2)\n",
      "Requirement already satisfied: websockets>=10.0 in /opt/conda/lib/python3.11/site-packages (from qiskit-ibmq-provider) (11.0.3)\n",
      "Requirement already satisfied: six>=1.5 in /opt/conda/lib/python3.11/site-packages (from python-dateutil>=2.8.0->qiskit-ibmq-provider) (1.16.0)\n",
      "Requirement already satisfied: rustworkx>=0.13.0 in /opt/conda/lib/python3.11/site-packages (from qiskit-terra>=0.18.0->qiskit-ibmq-provider) (0.13.1)\n",
      "Requirement already satisfied: ply>=3.10 in /opt/conda/lib/python3.11/site-packages (from qiskit-terra>=0.18.0->qiskit-ibmq-provider) (3.11)\n",
      "Requirement already satisfied: psutil>=5 in /opt/conda/lib/python3.11/site-packages (from qiskit-terra>=0.18.0->qiskit-ibmq-provider) (5.9.5)\n",
      "Requirement already satisfied: scipy>=1.5 in /opt/conda/lib/python3.11/site-packages (from qiskit-terra>=0.18.0->qiskit-ibmq-provider) (1.11.2)\n",
      "Requirement already satisfied: sympy>=1.3 in /opt/conda/lib/python3.11/site-packages (from qiskit-terra>=0.18.0->qiskit-ibmq-provider) (1.12)\n",
      "Requirement already satisfied: dill>=0.3 in /opt/conda/lib/python3.11/site-packages (from qiskit-terra>=0.18.0->qiskit-ibmq-provider) (0.3.7)\n",
      "Requirement already satisfied: stevedore>=3.0.0 in /opt/conda/lib/python3.11/site-packages (from qiskit-terra>=0.18.0->qiskit-ibmq-provider) (5.1.0)\n",
      "Requirement already satisfied: symengine<0.10,>=0.9 in /opt/conda/lib/python3.11/site-packages (from qiskit-terra>=0.18.0->qiskit-ibmq-provider) (0.9.2)\n",
      "Requirement already satisfied: charset-normalizer<4,>=2 in /opt/conda/lib/python3.11/site-packages (from requests>=2.19->qiskit-ibmq-provider) (3.2.0)\n",
      "Requirement already satisfied: idna<4,>=2.5 in /opt/conda/lib/python3.11/site-packages (from requests>=2.19->qiskit-ibmq-provider) (3.4)\n",
      "Requirement already satisfied: certifi>=2017.4.17 in /opt/conda/lib/python3.11/site-packages (from requests>=2.19->qiskit-ibmq-provider) (2023.7.22)\n",
      "Requirement already satisfied: ntlm-auth>=1.0.2 in /opt/conda/lib/python3.11/site-packages (from requests-ntlm<=1.1.0->qiskit-ibmq-provider) (1.5.0)\n",
      "Requirement already satisfied: cryptography>=1.3 in /opt/conda/lib/python3.11/site-packages (from requests-ntlm<=1.1.0->qiskit-ibmq-provider) (41.0.3)\n",
      "Requirement already satisfied: cffi>=1.12 in /opt/conda/lib/python3.11/site-packages (from cryptography>=1.3->requests-ntlm<=1.1.0->qiskit-ibmq-provider) (1.15.1)\n",
      "Requirement already satisfied: pbr!=2.1.0,>=2.0.0 in /opt/conda/lib/python3.11/site-packages (from stevedore>=3.0.0->qiskit-terra>=0.18.0->qiskit-ibmq-provider) (5.11.1)\n",
      "Requirement already satisfied: mpmath>=0.19 in /opt/conda/lib/python3.11/site-packages (from sympy>=1.3->qiskit-terra>=0.18.0->qiskit-ibmq-provider) (1.3.0)\n",
      "Requirement already satisfied: pycparser in /opt/conda/lib/python3.11/site-packages (from cffi>=1.12->cryptography>=1.3->requests-ntlm<=1.1.0->qiskit-ibmq-provider) (2.21)\n"
     ]
    }
   ],
   "source": [
    "import sys\n",
    "!{sys.executable} -m pip install qiskit\n",
    "!{sys.executable} -m pip install pylatexenc\n",
    "!{sys.executable} -m pip install matplotlib\n",
    "!{sys.executable} -m pip install qiskit-aer\n",
    "!{sys.executable} -m pip install qiskit-ibmq-provider"
   ]
  },
  {
   "cell_type": "code",
   "execution_count": 5,
   "id": "d85ca041-2ed6-4d17-aaf3-8d7f0e85bfd5",
   "metadata": {},
   "outputs": [],
   "source": [
    "from qiskit import *\n",
    "from qiskit.tools.visualization import plot_histogram\n",
    "from qiskit.tools.monitor import job_monitor\n",
    "from qiskit_aer import AerSimulator\n",
    "import matplotlib\n",
    "#import qiskit_ibmq_provider"
   ]
  },
  {
   "cell_type": "code",
   "execution_count": 6,
   "id": "7c0ecb80-7fe8-4000-9447-dbf980cfcd83",
   "metadata": {},
   "outputs": [],
   "source": [
    "qr = QuantumRegister(2)"
   ]
  },
  {
   "cell_type": "code",
   "execution_count": 7,
   "id": "f8a5538a-0c14-460d-ab5d-f1a705f04e1d",
   "metadata": {},
   "outputs": [],
   "source": [
    "cr = ClassicalRegister(2)"
   ]
  },
  {
   "cell_type": "code",
   "execution_count": 8,
   "id": "ef7c341f-c537-4782-bd3e-9591b3e30153",
   "metadata": {},
   "outputs": [],
   "source": [
    "qc = QuantumCircuit(qr, cr)"
   ]
  },
  {
   "cell_type": "code",
   "execution_count": 9,
   "id": "3e97ff55-521b-4e3f-972f-9787de512a32",
   "metadata": {},
   "outputs": [],
   "source": [
    "%matplotlib inline"
   ]
  },
  {
   "cell_type": "code",
   "execution_count": 10,
   "id": "4e429845-50f5-41f7-97c0-4efade308525",
   "metadata": {},
   "outputs": [
    {
     "data": {
      "text/html": [
       "<pre style=\"word-wrap: normal;white-space: pre;background: #fff0;line-height: 1.1;font-family: &quot;Courier New&quot;,Courier,monospace\">         \n",
       "q0_0: |0>\n",
       "         \n",
       "q0_1: |0>\n",
       "         \n",
       " c0: 0 2/\n",
       "         </pre>"
      ],
      "text/plain": [
       "         \n",
       "q0_0: |0>\n",
       "         \n",
       "q0_1: |0>\n",
       "         \n",
       " c0: 0 2/\n",
       "         "
      ]
     },
     "execution_count": 10,
     "metadata": {},
     "output_type": "execute_result"
    }
   ],
   "source": [
    "qc.draw(initial_state=True)"
   ]
  },
  {
   "cell_type": "code",
   "execution_count": 11,
   "id": "41d0ab04-99d5-4ac3-9d5a-e1f5da6fbfe0",
   "metadata": {},
   "outputs": [
    {
     "data": {
      "text/plain": [
       "<qiskit.circuit.instructionset.InstructionSet at 0x7fa6bd777a00>"
      ]
     },
     "execution_count": 11,
     "metadata": {},
     "output_type": "execute_result"
    }
   ],
   "source": [
    "qc.h(qr[0])"
   ]
  },
  {
   "cell_type": "code",
   "execution_count": 12,
   "id": "0fd48d85-c006-448d-b19a-959280fda90b",
   "metadata": {},
   "outputs": [
    {
     "data": {
      "image/png": "[encoded data removed]",
      "text/plain": [
       "<Figure size 221.712x284.278 with 1 Axes>"
      ]
     },
     "execution_count": 12,
     "metadata": {},
     "output_type": "execute_result"
    }
   ],
   "source": [
    "qc.draw('mpl')"
   ]
  },
  {
   "cell_type": "code",
   "execution_count": 13,
   "id": "3b1b9fbc-3252-4617-a8c4-66ae417b3b2a",
   "metadata": {},
   "outputs": [
    {
     "data": {
      "text/plain": [
       "<qiskit.circuit.instructionset.InstructionSet at 0x7fa6bd5e5390>"
      ]
     },
     "execution_count": 13,
     "metadata": {},
     "output_type": "execute_result"
    }
   ],
   "source": [
    "qc.cx(qr[0], qr[1])"
   ]
  },
  {
   "cell_type": "code",
   "execution_count": 14,
   "id": "edc2c8b7-9781-4258-8782-961ef6f8ad5f",
   "metadata": {},
   "outputs": [
    {
     "data": {
      "image/png": "[encoded data removed]",
      "text/plain": [
       "<Figure size 305.323x284.278 with 1 Axes>"
      ]
     },
     "execution_count": 14,
     "metadata": {},
     "output_type": "execute_result"
    }
   ],
   "source": [
    "qc.draw('mpl')"
   ]
  },
  {
   "cell_type": "code",
   "execution_count": 15,
   "id": "63ccbb72-2f0f-4f75-9a36-4e6540cec93d",
   "metadata": {},
   "outputs": [
    {
     "data": {
      "text/plain": [
       "<qiskit.circuit.instructionset.InstructionSet at 0x7fa6bd5e6650>"
      ]
     },
     "execution_count": 15,
     "metadata": {},
     "output_type": "execute_result"
    }
   ],
   "source": [
    "qc.measure(qr, cr)"
   ]
  },
  {
   "cell_type": "code",
   "execution_count": 16,
   "id": "7063c4b5-ce5d-4914-8642-99ea63da7842",
   "metadata": {},
   "outputs": [
    {
     "data": {
      "image/png": "[encoded data removed]",
      "text/plain": [
       "<Figure size 472.545x284.278 with 1 Axes>"
      ]
     },
     "execution_count": 16,
     "metadata": {},
     "output_type": "execute_result"
    }
   ],
   "source": [
    "qc.draw('mpl')"
   ]
  },
  {
   "cell_type": "code",
   "execution_count": 20,
   "id": "574a866e-2982-4332-ae1a-fffb9f27be50",
   "metadata": {},
   "outputs": [],
   "source": [
    "simulator = Aer.get_backend('qasm_simulator')"
   ]
  },
  {
   "cell_type": "code",
   "execution_count": 21,
   "id": "2696b149-bf04-460a-83a1-ee96fdbc6c3b",
   "metadata": {},
   "outputs": [],
   "source": [
    "result = execute(qc, simulator).result()"
   ]
  },
  {
   "cell_type": "code",
   "execution_count": 23,
   "id": "5e2bc5e5-b3cf-4407-9d7a-afe347aa5617",
   "metadata": {},
   "outputs": [
    {
     "data": {
      "image/png": "[encoded data removed]",
      "text/plain": [
       "<Figure size 700x500 with 1 Axes>"
      ]
     },
     "execution_count": 23,
     "metadata": {},
     "output_type": "execute_result"
    }
   ],
   "source": [
    "plot_histogram(result.get_counts(qc))"
   ]
  },
  {
   "cell_type": "code",
   "execution_count": 24,
   "id": "1d78e051-f7f5-423b-a221-82c1df772208",
   "metadata": {},
   "outputs": [
    {
     "name": "stderr",
     "output_type": "stream",
     "text": [
      "/tmp/ipykernel_7296/371185758.py:1: DeprecationWarning: The package qiskit.providers.ibmq is being deprecated. Please see https://ibm.biz/provider_migration_guide to get instructions on how to migrate to qiskit-ibm-provider (https://github.com/Qiskit/qiskit-ibm-provider) and qiskit-ibm-runtime (https://github.com/Qiskit/qiskit-ibm-runtime).\n",
      "  IBMQ.enable_account(\"2479675a987b35dcacdafbc517e93f1816cb6033b313163fb92b44f02e606707d78ff006bffb63952a7a37bf33b20f0572a42fe582b4a671b620dbc4f57c13b5\")\n",
      "/tmp/ipykernel_7296/371185758.py:1: DeprecationWarning: The qiskit.IBMQ entrypoint and the qiskit-ibmq-provider package (accessible from 'qiskit.providers.ibmq`) are deprecated and will be removed in a future release. Instead you should use the qiskit-ibm-provider package which is accessible from 'qiskit_ibm_provider'. You can install it with 'pip install qiskit_ibm_provider'. Just replace 'qiskit.IBMQ' with 'qiskit_ibm_provider.IBMProvider'\n",
      "  IBMQ.enable_account(\"2479675a987b35dcacdafbc517e93f1816cb6033b313163fb92b44f02e606707d78ff006bffb63952a7a37bf33b20f0572a42fe582b4a671b620dbc4f57c13b5\")\n"
     ]
    },
    {
     "data": {
      "text/plain": [
       "<AccountProvider for IBMQ(hub='ibm-q', group='open', project='main')>"
      ]
     },
     "execution_count": 24,
     "metadata": {},
     "output_type": "execute_result"
    }
   ],
   "source": [
    "IBMQ.enable_account(\"2479675a987b35dcacdafbc517e93f1816cb6033b313163fb92b44f02e606707d78ff006bffb63952a7a37bf33b20f0572a42fe582b4a671b620dbc4f57c13b5\")"
   ]
  },
  {
   "cell_type": "code",
   "execution_count": 25,
   "id": "b89746af-44eb-4041-96c5-5420424e8524",
   "metadata": {},
   "outputs": [],
   "source": [
    "provider = IBMQ.get_provider('ibm-q')"
   ]
  },
  {
   "cell_type": "code",
   "execution_count": 31,
   "id": "b2051274-1a8a-4e3f-b884-615a34f3a644",
   "metadata": {},
   "outputs": [],
   "source": [
    "qcomp = provider.get_backend(\"ibmq_lima\")"
   ]
  },
  {
   "cell_type": "code",
   "execution_count": 32,
   "id": "83c7dcc9-728e-4ce5-b7ef-ce5b97326593",
   "metadata": {},
   "outputs": [],
   "source": [
    "job = execute(qc, qcomp)"
   ]
  },
  {
   "cell_type": "code",
   "execution_count": null,
   "id": "d48a3e70-70a5-4a9c-9787-f08486a344a0",
   "metadata": {},
   "outputs": [
    {
     "name": "stdout",
     "output_type": "stream",
     "text": [
      "Job Status: job is queued (None)"
     ]
    }
   ],
   "source": [
    "job_monitor(job)"
   ]
  },
  {
   "cell_type": "code",
   "execution_count": null,
   "id": "178b5964-3a22-455d-8ea3-97613fb85c8a",
   "metadata": {},
   "outputs": [],
   "source": []
  }
 ],
 "metadata": {
  "kernelspec": {
   "display_name": "Python 3 (ipykernel)",
   "language": "python",
   "name": "python3"
  },
  "language_info": {
   "codemirror_mode": {
    "name": "ipython",
    "version": 3
   },
   "file_extension": ".py",
   "mimetype": "text/x-python",
   "name": "python",
   "nbconvert_exporter": "python",
   "pygments_lexer": "ipython3",
   "version": "3.11.5"
  }
 },
 "nbformat": 4,
 "nbformat_minor": 5
}
